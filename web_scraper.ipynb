{
 "cells": [
  {
   "cell_type": "code",
   "execution_count": 50,
   "metadata": {},
   "outputs": [
    {
     "name": "stdout",
     "output_type": "stream",
     "text": [
      "Updated today\n"
     ]
    }
   ],
   "source": [
    "from datetime import date\n",
    "from bs4 import BeautifulSoup\n",
    "import requests\n",
    "import re\n",
    "\n",
    "#set headers from operating system\n",
    "headers = {\n",
    "    \"User-Agent\": 'Mozilla/5.0 (Macintosh; Intel Mac OS X 10_14_6) AppleWebKit/537.36 (KHTML, like Gecko) Chrome/85.0.4183.121 Safari/537.36'\n",
    "}\n",
    "\n",
    "#get the source url\n",
    "source = requests.get('http://www.gov.uk/guidance/full-list-of-local-covid-alert-levels-by-area', headers=headers)\n",
    "\n",
    "#parse into html\n",
    "soup = BeautifulSoup(source.content, 'html.parser')\n",
    "\n",
    "#get the last updated div\n",
    "last_updated = soup.find('div', class_='app-c-published-dates')\n",
    "\n",
    "#get todays date\n",
    "the_date = date.today()\n",
    "today = the_date.strftime(\"%d %B %Y\")\n",
    "test_date = '23 October 2020'\n",
    "\n",
    "#check if todays date is in the last updated div\n",
    "check_date = last_updated.find_all(text=re.compile(today))\n",
    "if check_date:\n",
    "    print('Updated today')\n",
    "else:\n",
    "    print('No updates')"
   ]
  },
  {
   "cell_type": "code",
   "execution_count": null,
   "metadata": {},
   "outputs": [],
   "source": []
  }
 ],
 "metadata": {
  "kernelspec": {
   "display_name": "Python 3",
   "language": "python",
   "name": "python3"
  },
  "language_info": {
   "codemirror_mode": {
    "name": "ipython",
    "version": 3
   },
   "file_extension": ".py",
   "mimetype": "text/x-python",
   "name": "python",
   "nbconvert_exporter": "python",
   "pygments_lexer": "ipython3",
   "version": "3.8.3"
  }
 },
 "nbformat": 4,
 "nbformat_minor": 4
}
